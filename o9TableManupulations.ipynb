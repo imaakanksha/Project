{
 "cells": [
  {
   "cell_type": "code",
   "execution_count": 2,
   "id": "a13bb172",
   "metadata": {},
   "outputs": [],
   "source": [
    "import pandas as pd\n",
    "from datetime import datetime, timedelta\n",
    "import getpass\n",
    "\n",
    "# -----------------------------\n",
    "# STEP 1: CREATE SAMPLE INPUT DATA\n",
    "# -----------------------------\n",
    "\n",
    "# MASTER INPUT\n",
    "master_df = pd.DataFrame({\n",
    "    'Version': ['V1', 'V1'],\n",
    "    'Version Name': ['Ver1', 'Ver1'],\n",
    "    'Location': ['Loc1', 'Loc1'],\n",
    "    'EOL Group ID': ['EG1', 'EG1'],\n",
    "    'Sub Location': ['SLoc1', 'SLoc1'],\n",
    "    'Item': ['Item1', 'Item2'],\n",
    "    'EOL Group Item Site ASN': [1, 0],\n",
    "    'EOL Group Detail_Delete Flag': [False, False]\n",
    "})\n",
    "\n",
    "# DETAIL INPUT\n",
    "detail_df = pd.DataFrame({\n",
    "    'Version': ['V1', 'V1'],\n",
    "    'Version Name': ['Ver1', 'Ver1'],\n",
    "    'Location': ['Loc1', 'Loc1'],\n",
    "    'EOL Group ID': ['EG1', 'EG1'],\n",
    "    'Sub Location': ['SLoc1', 'SLoc1'],\n",
    "    'Item': ['Item1', 'Item2'],\n",
    "    'EOL Group Const EOP Min Date': [pd.Timestamp('2025-07-20'), pd.Timestamp('2025-07-10')],\n",
    "    'EOL Group Const EOP Max Date': [pd.Timestamp('2025-07-30'), pd.Timestamp('2025-07-15')],\n",
    "    'EOL Group Const Apply Flag': [True, True],\n",
    "    'EOL Group Const Constraint Start Date': [pd.Timestamp('2025-07-01'), pd.Timestamp('2025-07-01')],\n",
    "    'EOL Group Const Constraint End Date': [pd.Timestamp('2025-08-01'), pd.Timestamp('2025-08-01')],\n",
    "    'EOL Group Const Constraint Qty': [100, 200],\n",
    "    'EOL Group Const Demand Qty': [50, 150],\n",
    "    'EOL Group Const Demand Short Qty': [10, 20],\n",
    "    'EOL Group Const Prod Result Qty': [60, 160],\n",
    "    'EOL Group Const Prod Plan Qty': [70, 170],\n",
    "    'EOL Group Const Pegging Inv Qty': [30, 130],\n",
    "    'EOL Group Const Creation time': [pd.Timestamp.now(), pd.Timestamp.now()],\n",
    "    'EOL Group Const Created by': [getpass.getuser(), getpass.getuser()],\n",
    "    'Master_EOP_Plan_Date': [pd.Timestamp('2025-07-25'), pd.Timestamp('2025-07-12')],\n",
    "    'Master_EOP_Change_Date': [pd.Timestamp('2025-07-27'), pd.Timestamp('2025-07-14')],\n",
    "})\n",
    "\n",
    "# DEMAND INPUT\n",
    "demand_df = pd.DataFrame({\n",
    "    'Version': ['V1', 'V1'],\n",
    "    'Location': ['Loc1', 'Loc1'],\n",
    "    'Item': ['Item1', 'Item2'],\n",
    "    'EOL Demand_Demand Qty': [100, 200],\n",
    "    'EOL Demand_Demand Short Qty': [20, 30]\n",
    "})\n",
    "\n",
    "# PLAN INPUT\n",
    "plan_df = pd.DataFrame({\n",
    "    'Version': ['V1', 'V1'],\n",
    "    'Location': ['Loc1', 'Loc1'],\n",
    "    'Sub Location': ['SLoc1', 'SLoc1'],\n",
    "    'Item': ['Item1', 'Item2'],\n",
    "    'EOL Plan Result_Prod Result Qty': [100, 200],\n",
    "    'EOL Plan Result_Prod Plan Qty': [100, 200],\n",
    "    'EOL Plan Result_Pegging Inv Qty': [50, 150]\n",
    "})"
   ]
  },
  {
   "cell_type": "code",
   "execution_count": 6,
   "id": "a4b1a234",
   "metadata": {},
   "outputs": [
    {
     "name": "stdout",
     "output_type": "stream",
     "text": [
      "  Version Location Sub Location   Item  EOL Plan Result_Prod Result Qty  \\\n",
      "0      V1     Loc1        SLoc1  Item1                              100   \n",
      "1      V1     Loc1        SLoc1  Item2                              200   \n",
      "\n",
      "   EOL Plan Result_Prod Plan Qty  EOL Plan Result_Pegging Inv Qty  \n",
      "0                            100                               50  \n",
      "1                            200                              150  \n"
     ]
    }
   ],
   "source": [
    "print(plan_df)"
   ]
  },
  {
   "cell_type": "code",
   "execution_count": 3,
   "id": "8a1ea8e7",
   "metadata": {},
   "outputs": [],
   "source": [
    "# -----------------------------\n",
    "# STEP 2: FILTER MASTER BY FLAGS\n",
    "# -----------------------------\n",
    "filtered_master = master_df[\n",
    "    (master_df['EOL Group Item Site ASN'] == 1) &\n",
    "    (~master_df['EOL Group Detail_Delete Flag'])\n",
    "]\n",
    "\n",
    "# -----------------------------\n",
    "# STEP 3: MERGE DETAIL WITH DEMAND & PLAN\n",
    "# -----------------------------\n",
    "detail_with_demand = detail_df.merge(\n",
    "    demand_df,\n",
    "    on=['Version', 'Location', 'Item'],\n",
    "    how='left'\n",
    ")\n",
    "\n",
    "detail_full = detail_with_demand.merge(\n",
    "    plan_df,\n",
    "    on=['Version', 'Location', 'Sub Location', 'Item'],\n",
    "    how='left'\n",
    ")\n"
   ]
  },
  {
   "cell_type": "code",
   "execution_count": 4,
   "id": "f4717410",
   "metadata": {},
   "outputs": [],
   "source": [
    "# -----------------------------\n",
    "# STEP 4: APPLY EOL GROUP CONSTRAINT LOGIC\n",
    "# -----------------------------\n",
    "# Compute actual min/max of master EOP dates\n",
    "actual_min_date = detail_full[['Master_EOP_Plan_Date', 'Master_EOP_Change_Date']].min(axis=1)\n",
    "actual_max_date = detail_full[['Master_EOP_Plan_Date', 'Master_EOP_Change_Date']].max(axis=1)\n",
    "\n",
    "# Constraint checks\n",
    "mask_min_date = detail_full['EOL Group Const EOP Min Date'] <= actual_min_date\n",
    "mask_max_date = detail_full['EOL Group Const EOP Max Date'] <= actual_max_date\n",
    "mask_apply_flag = detail_full['EOL Group Const Apply Flag'].astype(bool)\n",
    "mask_demand_qty = detail_full['EOL Group Const Demand Qty'] <= detail_full['EOL Demand_Demand Qty']\n",
    "mask_short_qty = detail_full['EOL Group Const Demand Short Qty'] <= detail_full['EOL Demand_Demand Short Qty']\n",
    "mask_prod_result = detail_full['EOL Group Const Prod Result Qty'] <= detail_full['EOL Plan Result_Prod Result Qty']\n",
    "mask_prod_plan = detail_full['EOL Group Const Prod Plan Qty'] <= detail_full['EOL Plan Result_Prod Plan Qty']\n",
    "mask_inv_qty = detail_full['EOL Group Const Pegging Inv Qty'] <= detail_full['EOL Plan Result_Pegging Inv Qty']\n",
    "mask_time = detail_full['EOL Group Const Creation time'] <= (pd.Timestamp.now() + pd.Timedelta(hours=9))\n",
    "mask_user = detail_full['EOL Group Const Created by'] == getpass.getuser()\n",
    "\n",
    "# Combine all masks\n",
    "final_mask = (\n",
    "    mask_min_date & mask_max_date & mask_apply_flag &\n",
    "    mask_demand_qty & mask_short_qty &\n",
    "    mask_prod_result & mask_prod_plan & mask_inv_qty &\n",
    "    mask_time & mask_user\n",
    ")\n"
   ]
  },
  {
   "cell_type": "code",
   "execution_count": 5,
   "id": "8c23fe60",
   "metadata": {},
   "outputs": [
    {
     "name": "stdout",
     "output_type": "stream",
     "text": [
      "⚠️ No matching input. Applying to ALL detail records.\n",
      "\n",
      "🔍 Final Processed Data:\n",
      "  Version   Item  EOL Group Const Demand Qty  EOL Demand_Demand Qty\n",
      "0      V1  Item1                          50                    100\n",
      "1      V1  Item2                         150                    200\n"
     ]
    }
   ],
   "source": [
    "# Apply the mask\n",
    "filtered_detail = detail_full[final_mask]\n",
    "\n",
    "# -----------------------------\n",
    "# STEP 5: HANDLE EMPTY CASE (NO MATCHES)\n",
    "# -----------------------------\n",
    "if filtered_detail.empty:\n",
    "    print(\"⚠️ No matching input. Applying to ALL detail records.\")\n",
    "    filtered_detail = detail_full.copy()\n",
    "else:\n",
    "    print(\"✅ Filtered detail rows found based on constraints.\")\n",
    "\n",
    "# -----------------------------\n",
    "# STEP 6: OUTPUT\n",
    "# -----------------------------\n",
    "print(\"\\n🔍 Final Processed Data:\")\n",
    "print(filtered_detail[['Version', 'Item', 'EOL Group Const Demand Qty', 'EOL Demand_Demand Qty']])"
   ]
  }
 ],
 "metadata": {
  "kernelspec": {
   "display_name": "Python 3",
   "language": "python",
   "name": "python3"
  },
  "language_info": {
   "codemirror_mode": {
    "name": "ipython",
    "version": 3
   },
   "file_extension": ".py",
   "mimetype": "text/x-python",
   "name": "python",
   "nbconvert_exporter": "python",
   "pygments_lexer": "ipython3",
   "version": "3.13.5"
  }
 },
 "nbformat": 4,
 "nbformat_minor": 5
}
