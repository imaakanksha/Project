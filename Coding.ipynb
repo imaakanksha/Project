{
 "cells": [
  {
   "cell_type": "code",
   "execution_count": 1,
   "id": "abfac5f1",
   "metadata": {},
   "outputs": [
    {
     "name": "stdout",
     "output_type": "stream",
     "text": [
      "Hello! World\n"
     ]
    }
   ],
   "source": [
    "print(\"Hello! World\")"
   ]
  },
  {
   "cell_type": "code",
   "execution_count": 2,
   "id": "ff7be257",
   "metadata": {},
   "outputs": [
    {
     "name": "stdout",
     "output_type": "stream",
     "text": [
      "Coding is simple\n",
      "I am learning Python\n"
     ]
    }
   ],
   "source": [
    "print(\"Coding is simple\")\n",
    "print(\"I am learning Python\")   "
   ]
  },
  {
   "cell_type": "code",
   "execution_count": 1,
   "id": "cb655486",
   "metadata": {},
   "outputs": [
    {
     "name": "stdout",
     "output_type": "stream",
     "text": [
      "Coding is simple\n",
      "I am learning Python\n"
     ]
    }
   ],
   "source": [
    "print(\"Coding is simple\")\n",
    "print(\"I am learning Python\")   "
   ]
  }
 ],
 "metadata": {
  "kernelspec": {
   "display_name": "Python 3",
   "language": "python",
   "name": "python3"
  },
  "language_info": {
   "codemirror_mode": {
    "name": "ipython",
    "version": 3
   },
   "file_extension": ".py",
   "mimetype": "text/x-python",
   "name": "python",
   "nbconvert_exporter": "python",
   "pygments_lexer": "ipython3",
   "version": "3.13.5"
  }
 },
 "nbformat": 4,
 "nbformat_minor": 5
}
