{
 "cells": [
  {
   "cell_type": "code",
   "execution_count": 1,
   "id": "abfac5f1",
   "metadata": {},
   "outputs": [
    {
     "name": "stdout",
     "output_type": "stream",
     "text": [
      "Hello! World\n"
     ]
    }
   ],
   "source": [
    "print(\"Hello! World\")"
   ]
  },
  {
   "cell_type": "code",
   "execution_count": 2,
   "id": "ff7be257",
   "metadata": {},
   "outputs": [
    {
     "name": "stdout",
     "output_type": "stream",
     "text": [
      "Coding is simple\n",
      "I am learning Python\n"
     ]
    }
   ],
   "source": [
    "print(\"Coding is simple\")\n",
    "print(\"I am learning Python\")   "
   ]
  },
  {
   "cell_type": "code",
   "execution_count": 1,
   "id": "cb655486",
   "metadata": {},
   "outputs": [
    {
     "name": "stdout",
     "output_type": "stream",
     "text": [
      "Coding is simple\n",
      "I am learning Python\n"
     ]
    }
   ],
   "source": [
    "print(\"Coding is simple\")\n",
    "print(\"I am learning Python\")   "
   ]
  },
  {
   "cell_type": "code",
   "execution_count": 2,
   "id": "4c9fdd6f",
   "metadata": {},
   "outputs": [
    {
     "name": "stdout",
     "output_type": "stream",
     "text": [
      "0\n",
      "1\n",
      "2\n",
      "3\n",
      "4\n",
      "5\n",
      "6\n",
      "7\n"
     ]
    }
   ],
   "source": [
    "import sys\n",
    "import time\n",
    "\n",
    "for i in range(8):\n",
    "    print(i)\n",
    "    time.sleep(0.5)"
   ]
  },
  {
   "cell_type": "code",
   "execution_count": 3,
   "id": "2fcf47b3",
   "metadata": {},
   "outputs": [
    {
     "name": "stdout",
     "output_type": "stream",
     "text": [
      "Original string: Hello, World!\n",
      "Reversed string: !dlroW ,olleH\n"
     ]
    }
   ],
   "source": [
    "def reverse_string(s):\n",
    "    return s[::-1]\n",
    "\n",
    "# Example usage\n",
    "input_string = \"Hello, World!\"\n",
    "reversed_string = reverse_string(input_string)\n",
    "print(\"Original string:\", input_string)\n",
    "print(\"Reversed string:\", reversed_string)"
   ]
  }
 ],
 "metadata": {
  "kernelspec": {
   "display_name": "Python 3",
   "language": "python",
   "name": "python3"
  },
  "language_info": {
   "codemirror_mode": {
    "name": "ipython",
    "version": 3
   },
   "file_extension": ".py",
   "mimetype": "text/x-python",
   "name": "python",
   "nbconvert_exporter": "python",
   "pygments_lexer": "ipython3",
   "version": "3.13.5"
  }
 },
 "nbformat": 4,
 "nbformat_minor": 5
}
