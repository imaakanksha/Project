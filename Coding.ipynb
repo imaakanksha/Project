{
 "cells": [
  {
   "cell_type": "code",
   "execution_count": 2,
   "id": "abfac5f1",
   "metadata": {},
   "outputs": [
    {
     "name": "stdout",
     "output_type": "stream",
     "text": [
      "Hello! World\n"
     ]
    }
   ],
   "source": [
    "print(\"Hello! World\")"
   ]
  },
  {
   "cell_type": "code",
   "execution_count": 3,
   "id": "ff7be257",
   "metadata": {},
   "outputs": [
    {
     "name": "stdout",
     "output_type": "stream",
     "text": [
      "Coding is simple\n",
      "I am learning Python\n"
     ]
    }
   ],
   "source": [
    "print(\"Coding is simple\")\n",
    "print(\"I am learning Python\")   "
   ]
  },
  {
   "cell_type": "code",
   "execution_count": 4,
   "id": "cb655486",
   "metadata": {},
   "outputs": [
    {
     "name": "stdout",
     "output_type": "stream",
     "text": [
      "Coding is simple\n",
      "I am learning Python\n"
     ]
    }
   ],
   "source": [
    "print(\"Coding is simple\")\n",
    "print(\"I am learning Python\")   "
   ]
  },
  {
   "cell_type": "code",
   "execution_count": 5,
   "id": "4c9fdd6f",
   "metadata": {},
   "outputs": [
    {
     "name": "stdout",
     "output_type": "stream",
     "text": [
      "0\n",
      "1\n",
      "2\n",
      "3\n",
      "4\n",
      "5\n",
      "6\n",
      "7\n"
     ]
    }
   ],
   "source": [
    "import sys\n",
    "import time\n",
    "\n",
    "for i in range(8):\n",
    "    print(i)\n",
    "    time.sleep(0.5)"
   ]
  },
  {
   "cell_type": "code",
   "execution_count": 6,
   "id": "2fcf47b3",
   "metadata": {},
   "outputs": [
    {
     "name": "stdout",
     "output_type": "stream",
     "text": [
      "Original string: Hello, World!\n",
      "Reversed string: !dlroW ,olleH\n"
     ]
    }
   ],
   "source": [
    "def reverse_string(s):\n",
    "    return s[::-1]\n",
    "\n",
    "# Example usage\n",
    "input_string = \"Hello, World!\"\n",
    "reversed_string = reverse_string(input_string)\n",
    "print(\"Original string:\", input_string)\n",
    "print(\"Reversed string:\", reversed_string)"
   ]
  },
  {
   "cell_type": "code",
   "execution_count": 7,
   "id": "7e7a16d4",
   "metadata": {},
   "outputs": [],
   "source": [
    "class FileManager:\n",
    "    def __init__(self, filename, mode):\n",
    "        self.filename = filename\n",
    "        self.mode = mode\n",
    "    \n",
    "    def __enter__(self):\n",
    "        self.file = open(self.filename, self.mode)\n",
    "        return self.file\n",
    "    \n",
    "    def __exit__(self, exc_type, exc_value, traceback):\n",
    "        self.file.close()\n",
    "\n",
    "with FileManager('test.txt', 'w') as f:\n",
    "    f.write('Hello, world!')"
   ]
  },
  {
   "cell_type": "code",
   "execution_count": 8,
   "id": "00a8ee1c",
   "metadata": {},
   "outputs": [
    {
     "name": "stdout",
     "output_type": "stream",
     "text": [
      "Value: 10\n"
     ]
    }
   ],
   "source": [
    "class MyClass:\n",
    "    def __init__(self, value):\n",
    "        self.value = value  # Initialize object attribute\n",
    "\n",
    "    def display(self):\n",
    "        print(f\"Value: {self.value}\")\n",
    "\n",
    "obj = MyClass(10)\n",
    "obj.display()"
   ]
  },
  {
   "cell_type": "code",
   "execution_count": 9,
   "id": "755565ff",
   "metadata": {},
   "outputs": [
    {
     "name": "stdout",
     "output_type": "stream",
     "text": [
      "Number of vowels in the string: 3\n"
     ]
    }
   ],
   "source": [
    "def count_vowels(s):\n",
    "    # Define vowels\n",
    "    vowels = \"aeiouAEIOU\"\n",
    "    # Initialize count\n",
    "    count = 0\n",
    "    # Count vowels\n",
    "    for char in s:\n",
    "        if char in vowels:\n",
    "            count += 1\n",
    "    return count\n",
    "\n",
    "# Example usage\n",
    "input_string = \"Hello, World!\"\n",
    "vowel_count = count_vowels(input_string)\n",
    "print(\"Number of vowels in the string:\", vowel_count)\n"
   ]
  },
  {
   "cell_type": "code",
   "execution_count": 10,
   "id": "28b4744f",
   "metadata": {},
   "outputs": [
    {
     "data": {
      "text/plain": [
       "'DataCampBlackFridaySale'"
      ]
     },
     "execution_count": 10,
     "metadata": {},
     "output_type": "execute_result"
    }
   ],
   "source": [
    "def str_replace(text,ch):\n",
    "    result = ''\n",
    "    for i in text: \n",
    "            if i == ' ': \n",
    "                i = ch  \n",
    "            result += i \n",
    "    return result\n",
    "\n",
    "text = \"D t C mpBl ckFrid yS le\"\n",
    "ch = \"a\"\n",
    "\n",
    "str_replace(text,ch)\n",
    "# 'DataCampBlackFridaySale'"
   ]
  },
  {
   "cell_type": "code",
   "execution_count": 11,
   "id": "9423a850",
   "metadata": {},
   "outputs": [
    {
     "data": {
      "text/plain": [
       "True"
      ]
     },
     "execution_count": 11,
     "metadata": {},
     "output_type": "execute_result"
    }
   ],
   "source": [
    "def valid_square(num):\n",
    "    square = int(num**0.5)\n",
    "    check = square**2==num\n",
    "    return check\n",
    "\n",
    "valid_square(10)\n",
    "# False\n",
    "valid_square(36)\n",
    "# True"
   ]
  },
  {
   "cell_type": "code",
   "execution_count": 12,
   "id": "bc2203b0",
   "metadata": {},
   "outputs": [
    {
     "data": {
      "text/plain": [
       "3"
      ]
     },
     "execution_count": 12,
     "metadata": {},
     "output_type": "execute_result"
    }
   ],
   "source": [
    "def factorial_trailing_zeros(n):\n",
    "\n",
    "    fact = n\n",
    "    while n > 1:\n",
    "        fact *= n - 1\n",
    "        n -= 1\n",
    "\n",
    "    result = 0\n",
    "\n",
    "    for i in str(fact)[::-1]:\n",
    "        if i == \"0\":\n",
    "            result += 1\n",
    "        else:\n",
    "            break\n",
    "\n",
    "    return result\n",
    "\n",
    "\n",
    "factorial_trailing_zeros(10)\n",
    "# 2\n",
    "factorial_trailing_zeros(18)\n",
    "# 3"
   ]
  },
  {
   "cell_type": "code",
   "execution_count": 13,
   "id": "b16f5bdd",
   "metadata": {},
   "outputs": [
    {
     "data": {
      "text/plain": [
       "6"
      ]
     },
     "execution_count": 13,
     "metadata": {},
     "output_type": "execute_result"
    }
   ],
   "source": [
    "def max_index_diff(array):\n",
    "    n = len(array)\n",
    "    max_diff = -1\n",
    "    for i in range(0, n):\n",
    "        j = n - 1\n",
    "        while(j > i):\n",
    "            if array[j] > array[i] and max_diff < (j - i):\n",
    "                max_diff = j - i\n",
    "            j -= 1\n",
    "\n",
    "    return max_diff\n",
    "\n",
    "array_1 = [20,70,40,50,12,38,98]\n",
    "\n",
    "max_index_diff(array_1)\n",
    "# 6"
   ]
  },
  {
   "cell_type": "code",
   "execution_count": 14,
   "id": "746b53fc",
   "metadata": {},
   "outputs": [
    {
     "name": "stdout",
     "output_type": "stream",
     "text": [
      "\"racecar\" is a palindrome: True\n",
      "\"hello\" is a palindrome: False\n",
      "\"A man, a plan, a canal: Panama\" is a palindrome: True\n"
     ]
    }
   ],
   "source": [
    "def is_palindrome(text):\n",
    "    \"\"\"\n",
    "    Checks if a string is a palindrome.\n",
    "\n",
    "    Args:\n",
    "        text: The string to check.\n",
    "\n",
    "    Returns:\n",
    "        True if the string is a palindrome, False otherwise.\n",
    "    \"\"\"\n",
    "    processed_text = ''.join(char.lower() for char in text if char.isalnum())\n",
    "    return processed_text == processed_text[::-1]\n",
    "\n",
    "# Example usage\n",
    "string1 = \"racecar\"\n",
    "string2 = \"hello\"\n",
    "string3 = \"A man, a plan, a canal: Panama\"\n",
    "\n",
    "print(f'\"{string1}\" is a palindrome: {is_palindrome(string1)}')\n",
    "print(f'\"{string2}\" is a palindrome: {is_palindrome(string2)}')\n",
    "print(f'\"{string3}\" is a palindrome: {is_palindrome(string3)}')"
   ]
  },
  {
   "cell_type": "code",
   "execution_count": 15,
   "id": "67a0cb23",
   "metadata": {},
   "outputs": [
    {
     "name": "stdout",
     "output_type": "stream",
     "text": [
      "0     2\n",
      "1     4\n",
      "2     5\n",
      "5    13\n",
      "6    15\n",
      "7    17\n",
      "dtype: int64\n"
     ]
    },
    {
     "data": {
      "text/plain": [
       "'\\nOutput:\\n0     2\\n1     4\\n2     5\\n5    13\\n6    15\\n7    17\\ndtype: int64\\n'"
      ]
     },
     "execution_count": 15,
     "metadata": {},
     "output_type": "execute_result"
    }
   ],
   "source": [
    "import pandas as pd\n",
    "import numpy as np\n",
    "df1 = pd.Series([2, 4, 5, 8, 10])\n",
    "df2 = pd.Series([8, 10, 13, 15, 17])\n",
    "p_union = pd.Series(np.union1d(df1, df2))  # union of series\n",
    "p_intersect = pd.Series(np.intersect1d(df1, df2))  # intersection of series\n",
    "unique_elements = p_union[~p_union.isin(p_intersect)]\n",
    "print(unique_elements)\n",
    "\"\"\"\n",
    "Output:\n",
    "0     2\n",
    "1     4\n",
    "2     5\n",
    "5    13\n",
    "6    15\n",
    "7    17\n",
    "dtype: int64\n",
    "\"\"\""
   ]
  },
  {
   "cell_type": "code",
   "execution_count": 16,
   "id": "b4dbe59e",
   "metadata": {},
   "outputs": [
    {
     "name": "stdout",
     "output_type": "stream",
     "text": [
      "Original string: hello\n",
      "Reversed string (iterative): olleh\n",
      "Reversed string (recursive): olleh\n"
     ]
    }
   ],
   "source": [
    "def reverse_string_iterative(s):\n",
    "    \"\"\"Reverses a string using iteration.\"\"\"\n",
    "    return s[::-1]\n",
    "\n",
    "def reverse_string_recursive(s):\n",
    "    \"\"\"Reverses a string using recursion.\"\"\"\n",
    "    if len(s) == 0:\n",
    "        return s\n",
    "    else:\n",
    "        return reverse_string_recursive(s[1:]) + s[0]\n",
    "\n",
    "# Example usage\n",
    "my_string = \"hello\"\n",
    "print(f\"Original string: {my_string}\")\n",
    "print(f\"Reversed string (iterative): {reverse_string_iterative(my_string)}\")\n",
    "print(f\"Reversed string (recursive): {reverse_string_recursive(my_string)}\")\n"
   ]
  },
  {
   "cell_type": "code",
   "execution_count": 17,
   "id": "40021db4",
   "metadata": {},
   "outputs": [
    {
     "name": "stdout",
     "output_type": "stream",
     "text": [
      "True\n",
      "False\n"
     ]
    }
   ],
   "source": [
    "import math\n",
    "\n",
    "def is_prime(num):\n",
    "    if num <= 1: # 0, 1, and negative numbers are not prime\n",
    "        return False\n",
    "    # Check for divisibility from 2 up to the square root of the number\n",
    "    for i in range(2, int(math.sqrt(num)) + 1):\n",
    "        if num % i == 0:\n",
    "            return False # Not prime if divisible\n",
    "    return True # Prime if no divisors are found\n",
    "\n",
    "print(is_prime(17)) # Output: True\n",
    "print(is_prime(24)) # Output: False\n"
   ]
  },
  {
   "cell_type": "code",
   "execution_count": 18,
   "id": "df3f6448",
   "metadata": {},
   "outputs": [
    {
     "name": "stdout",
     "output_type": "stream",
     "text": [
      "[1, 2, 3, 4, 5, 6, 7]\n"
     ]
    }
   ],
   "source": [
    "    def flatten_list(nested_list):\n",
    "        flat_list = []\n",
    "        for item in nested_list:\n",
    "            if isinstance(item, list):\n",
    "                flat_list.extend(flatten_list(item))\n",
    "            else:\n",
    "                flat_list.append(item)\n",
    "        return flat_list\n",
    "\n",
    "    print(flatten_list([1, [2, 3], 4, [5, [6, 7]]])) # Output: [1, 2, 3, 4, 5, 6, 7]"
   ]
  },
  {
   "cell_type": "code",
   "execution_count": 19,
   "id": "3b5f3ede",
   "metadata": {},
   "outputs": [
    {
     "name": "stdout",
     "output_type": "stream",
     "text": [
      "3 2 1 "
     ]
    }
   ],
   "source": [
    "class Node:\n",
    "    def __init__(self, data):\n",
    "        self.data = data\n",
    "        self.next = None\n",
    "\n",
    "def reverse_linked_list_recursive(head):\n",
    "    if not head or not head.next:\n",
    "        return head\n",
    "    new_head = reverse_linked_list_recursive(head.next)\n",
    "    head.next.next = head\n",
    "    head.next = None\n",
    "    return new_head\n",
    "\n",
    "# Example Usage (create a sample linked list)\n",
    "head = Node(1)\n",
    "head.next = Node(2)\n",
    "head.next.next = Node(3)\n",
    "\n",
    "# Reverse the list\n",
    "new_head = reverse_linked_list_recursive(head)\n",
    "\n",
    "# Print the reversed list\n",
    "current = new_head\n",
    "while current:\n",
    "    print(current.data, end=\" \")\n",
    "    current = current.next\n",
    "# Expected Output: 3 2 1"
   ]
  },
  {
   "cell_type": "code",
   "execution_count": 20,
   "id": "5a9b10af",
   "metadata": {},
   "outputs": [
    {
     "name": "stdout",
     "output_type": "stream",
     "text": [
      "n\n"
     ]
    }
   ],
   "source": [
    "def first_non_repeating_char(s):\n",
    "    char_count = {}\n",
    "    for char in s:\n",
    "        char_count[char] = char_count.get(char, 0) + 1\n",
    "    for char in s:\n",
    "        if char_count[char] == 1:\n",
    "            return char\n",
    "    return None\n",
    "\n",
    "print(first_non_repeating_char(\"nxtwave\"))  # n"
   ]
  },
  {
   "cell_type": "code",
   "execution_count": 21,
   "id": "1b100920",
   "metadata": {},
   "outputs": [
    {
     "name": "stdout",
     "output_type": "stream",
     "text": [
      "2\n"
     ]
    }
   ],
   "source": [
    "def binary_search(arr, target):\n",
    "    low, high = 0, len(arr) - 1\n",
    "    while low <= high:\n",
    "        mid = (low + high) // 2\n",
    "        if arr[mid] < target:\n",
    "            low = mid + 1\n",
    "        elif arr[mid] > target:\n",
    "            high = mid - 1\n",
    "        else:\n",
    "            return mid\n",
    "    return -1\n",
    "\n",
    "print(binary_search([1, 2, 3, 4, 5], 3))  # 2"
   ]
  },
  {
   "cell_type": "code",
   "execution_count": 23,
   "id": "7578a728",
   "metadata": {},
   "outputs": [
    {
     "name": "stdout",
     "output_type": "stream",
     "text": [
      "True\n"
     ]
    }
   ],
   "source": [
    "class Node:\n",
    "    def __init__(self, value):\n",
    "        self.value = value\n",
    "        self.left = None\n",
    "        self.right = None\n",
    "\n",
    "def is_balanced(root):\n",
    "    if not root:\n",
    "        return True\n",
    "\n",
    "    def height(node):\n",
    "        if not node:\n",
    "            return 0\n",
    "        return 1 + max(height(node.left), height(node.right))\n",
    "\n",
    "    return abs(height(root.left) - height(root.right)) <= 1\n",
    "\n",
    "root = Node(1)\n",
    "root.left = Node(2)\n",
    "root.right = Node(3)\n",
    "print(is_balanced(root))  # True"
   ]
  },
  {
   "cell_type": "code",
   "execution_count": null,
   "id": "aedf0320",
   "metadata": {},
   "outputs": [],
   "source": [
    "class Node:\n",
    "    def __init__(self, value):\n",
    "        self.value = value\n",
    "        self.left = None\n",
    "        self.right = None\n",
    "\n",
    "def is_balanced(root):\n",
    "    if not root:\n",
    "        return True\n",
    "\n",
    "    def height(node):\n",
    "        if not node:\n",
    "            return 0\n",
    "        return 1 + max(height(node.left), height(node.right))\n",
    "\n",
    "    return abs(height(root.left) - height(root.right)) <= 1\n",
    "\n",
    "root = Node(1)\n",
    "root.left = Node(2)\n",
    "root.right = Node(3)\n",
    "print(is_balanced(root))  # True"
   ]
  },
  {
   "cell_type": "code",
   "execution_count": 1,
   "id": "d154c229",
   "metadata": {},
   "outputs": [
    {
     "name": "stdout",
     "output_type": "stream",
     "text": [
      "6\n"
     ]
    }
   ],
   "source": [
    "def max_subarray_sum(arr):\n",
    "    max_sum = current_sum = arr[0]\n",
    "    for num in arr[1:]:\n",
    "        current_sum = max(num, current_sum + num)\n",
    "        max_sum = max(max_sum, current_sum)\n",
    "    return max_sum\n",
    "\n",
    "print(max_subarray_sum([-2, 1, -3, 4, -1, 2, 1, -5, 4]))  # 6"
   ]
  },
  {
   "cell_type": "code",
   "execution_count": 1,
   "id": "778be360",
   "metadata": {},
   "outputs": [
    {
     "name": "stdout",
     "output_type": "stream",
     "text": [
      "8\n"
     ]
    }
   ],
   "source": [
    "def calculator(a, b, operation):\n",
    "    if operation == 'add':\n",
    "        return a + b\n",
    "    elif operation == 'subtract':\n",
    "        return a - b\n",
    "    elif operation == 'multiply':\n",
    "        return a * b\n",
    "    elif operation == 'divide':\n",
    "        return a / b if b != 0 else \"Cannot divide by zero\"\n",
    "    else:\n",
    "        return \"Invalid operation\"\n",
    "\n",
    "print(calculator(5, 3, 'add'))  # 8"
   ]
  },
  {
   "cell_type": "code",
   "execution_count": 1,
   "id": "7981a599",
   "metadata": {},
   "outputs": [
    {
     "name": "stdout",
     "output_type": "stream",
     "text": [
      "1\n"
     ]
    }
   ],
   "source": [
    "from collections import deque\n",
    "\n",
    "class Queue:\n",
    "    def __init__(self):\n",
    "        self.queue = deque()\n",
    "\n",
    "    def enqueue(self, item):\n",
    "        self.queue.append(item)\n",
    "\n",
    "    def dequeue(self):\n",
    "        return self.queue.popleft() if self.queue else None\n",
    "\n",
    "q = Queue()\n",
    "q.enqueue(1)\n",
    "q.enqueue(2)\n",
    "print(q.dequeue())  # 1"
   ]
  },
  {
   "cell_type": "code",
   "execution_count": 1,
   "id": "42926a6d",
   "metadata": {},
   "outputs": [],
   "source": [
    "from collections import deque\n",
    "\n",
    "class Queue:\n",
    "    def __init__(self):\n",
    "        self.queue = deque()\n",
    "\n",
    "    def enqueue(self, item):\n",
    "        self.queue.append(item)\n",
    "\n",
    "    def dequeue(self):\n",
    "        return self.queue.popleft() if self.queue else None\n",
    "\n",
    "q = Queue()\n",
    "q.enqueue(1)\n",
    "q.enqueue(2)"
   ]
  },
  {
   "cell_type": "code",
   "execution_count": 6,
   "id": "8057652e",
   "metadata": {},
   "outputs": [
    {
     "name": "stdout",
     "output_type": "stream",
     "text": [
      "120\n"
     ]
    }
   ],
   "source": [
    "def factorial(n):\n",
    "    if n == 0:\n",
    "        return 1\n",
    "    return n * factorial(n - 1)\n",
    "print(factorial(5))  # 120"
   ]
  },
  {
   "cell_type": "code",
   "execution_count": 8,
   "id": "10ccec6c",
   "metadata": {},
   "outputs": [],
   "source": [
    "class FileManager:\n",
    "    def __init__(self, filename, mode):\n",
    "        self.filename = filename\n",
    "        self.mode = mode\n",
    "    \n",
    "    def __enter__(self):\n",
    "        self.file = open(self.filename, self.mode)\n",
    "        return self.file\n",
    "    \n",
    "    def __exit__(self, exc_type, exc_value, traceback):\n",
    "        self.file.close()\n",
    "\n",
    "with FileManager('test.txt', 'w') as f:\n",
    "    f.write('Hello, world!')"
   ]
  },
  {
   "cell_type": "code",
   "execution_count": 1,
   "id": "4215f8ac",
   "metadata": {},
   "outputs": [
    {
     "name": "stdout",
     "output_type": "stream",
     "text": [
      "True\n"
     ]
    }
   ],
   "source": [
    "class Node:\n",
    "    def __init__(self, value):\n",
    "        self.value = value\n",
    "        self.left = None\n",
    "        self.right = None\n",
    "\n",
    "def is_balanced(root):\n",
    "    if not root:\n",
    "        return True\n",
    "\n",
    "    def height(node):\n",
    "        if not node:\n",
    "            return 0\n",
    "        return 1 + max(height(node.left), height(node.right))\n",
    "\n",
    "    return abs(height(root.left) - height(root.right)) <= 1\n",
    "\n",
    "root = Node(1)\n",
    "root.left = Node(2)\n",
    "root.right = Node(3)\n",
    "print(is_balanced(root))  # True"
   ]
  },
  {
   "cell_type": "code",
   "execution_count": 1,
   "id": "e69c2803",
   "metadata": {},
   "outputs": [
    {
     "name": "stdout",
     "output_type": "stream",
     "text": [
      "True\n"
     ]
    }
   ],
   "source": [
    "class Node:\n",
    "    def __init__(self, value):\n",
    "        self.value = value\n",
    "        self.left = None\n",
    "        self.right = None\n",
    "\n",
    "def is_balanced(root):\n",
    "    if not root:\n",
    "        return True\n",
    "\n",
    "    def height(node):\n",
    "        if not node:\n",
    "            return 0\n",
    "        return 1 + max(height(node.left), height(node.right))\n",
    "\n",
    "    return abs(height(root.left) - height(root.right)) <= 1\n",
    "\n",
    "root = Node(1)\n",
    "root.left = Node(2)\n",
    "root.right = Node(3)\n",
    "print(is_balanced(root))  # True"
   ]
  },
  {
   "cell_type": "code",
   "execution_count": 1,
   "id": "aea1bcb2",
   "metadata": {},
   "outputs": [
    {
     "name": "stdout",
     "output_type": "stream",
     "text": [
      "red apple\n",
      "red banana\n",
      "red cherry\n",
      "big apple\n",
      "big banana\n",
      "big cherry\n",
      "tasty apple\n",
      "tasty banana\n",
      "tasty cherry\n"
     ]
    }
   ],
   "source": [
    "adj = [\"red\", \"big\", \"tasty\"]\n",
    "fruits = [\"apple\", \"banana\", \"cherry\"]\n",
    "\n",
    "for x in adj:\n",
    "  for y in fruits:\n",
    "    print(x, y)\n"
   ]
  },
  {
   "cell_type": "code",
   "execution_count": 1,
   "id": "8c7f06d4",
   "metadata": {},
   "outputs": [
    {
     "name": "stdout",
     "output_type": "stream",
     "text": [
      "element is present\n",
      "element is not present\n"
     ]
    }
   ],
   "source": [
    "# Python program to Search an Element\n",
    "# in a Circular Linked List\n",
    "      \n",
    "# Class to define node of the linked list    \n",
    "class Node: \n",
    "    def __init__(self,data):    \n",
    "        self.data = data;\n",
    "        self.next = None;\n",
    "        \n",
    "class CircularLinkedList:\n",
    "    \n",
    "    # Declaring Circular Linked List\n",
    "    def __init__(self):    \n",
    "        self.head = Node(None);    \n",
    "        self.tail = Node(None);    \n",
    "        self.head.next = self.tail;    \n",
    "        self.tail.next = self.head;    \n",
    "        \n",
    "    \n",
    "    # Adds new nodes to the Circular Linked List\n",
    "    def add(self,data):    \n",
    "        \n",
    "        # Declares a new node to be added\n",
    "        newNode = Node(data); \n",
    "        \n",
    "        # Checks if the Circular\n",
    "        # Linked List is empty\n",
    "        if self.head.data is None:\n",
    "            \n",
    "            # If list is empty then new node\n",
    "            # will be the first node\n",
    "            # to be added in the Circular Linked List\n",
    "            self.head = newNode;\n",
    "            self.tail = newNode;\n",
    "            newNode.next = self.head;\n",
    "        \n",
    "        else:\n",
    "            # If a node is already present then\n",
    "            # tail of the last node will point to\n",
    "            # new node\n",
    "            self.tail.next = newNode;\n",
    "            \n",
    "            # New node will become new tail\n",
    "            self.tail = newNode;\n",
    "            \n",
    "            # New Tail will point to the head\n",
    "            self.tail.next = self.head;    \n",
    "                \n",
    "    # Function to search the element in the \n",
    "    # Circular Linked List\n",
    "    def findNode(self,element):\n",
    "        \n",
    "        # Pointing the head to start the search\n",
    "        current = self.head;\n",
    "        i = 1;\n",
    "        \n",
    "        # Declaring f = 0\n",
    "        f = 0;    \n",
    "        # Check if the list is empty or not    \n",
    "        if(self.head == None):\n",
    "            print(\"Empty list\"); \n",
    "        else:\n",
    "            while(True):     \n",
    "                # Comparing the elements\n",
    "                # of each node to the\n",
    "                # element to be searched\n",
    "                if(current.data ==  element): \n",
    "\n",
    "                    # If the element is present\n",
    "                    # then incrementing f\n",
    "                    f += 1;    \n",
    "                    break;\n",
    "                \n",
    "                # Jumping to next node\n",
    "                current = current.next;    \n",
    "                i = i + 1;    \n",
    "                \n",
    "                # If we reach the head\n",
    "                # again then element is not \n",
    "                # present in the list so \n",
    "                # we will break the loop\n",
    "                if(current == self.head):    \n",
    "                    break;    \n",
    "            \n",
    "            # Checking the value of f\n",
    "            if(f > 0):    \n",
    "                print(\"element is present\");    \n",
    "            else:    \n",
    "                print(\"element is not present\");    \n",
    "                \n",
    "# Driver Code\n",
    "if __name__ == '__main__':\n",
    "    \n",
    "    # Creating a Circular Linked List\n",
    "    '''\n",
    "    Circular Linked List we will be working on:\n",
    "    1 -> 2 -> 3 -> 4 -> 5 -> 6\n",
    "    '''\n",
    "    circularLinkedList = CircularLinkedList();\n",
    "    \n",
    "    #Adding nodes to the list    \n",
    "    circularLinkedList.add(1);\n",
    "    circularLinkedList.add(2);\n",
    "    circularLinkedList.add(3);\n",
    "    circularLinkedList.add(4);\n",
    "    circularLinkedList.add(5);\n",
    "    circularLinkedList.add(6);\n",
    "    \n",
    "    # Searching for node 2 in the list    \n",
    "    circularLinkedList.findNode(2);\n",
    "    \n",
    "    #Searching for node in the list    \n",
    "    circularLinkedList.findNode(7);"
   ]
  }
 ],
 "metadata": {
  "kernelspec": {
   "display_name": "Python 3",
   "language": "python",
   "name": "python3"
  },
  "language_info": {
   "codemirror_mode": {
    "name": "ipython",
    "version": 3
   },
   "file_extension": ".py",
   "mimetype": "text/x-python",
   "name": "python",
   "nbconvert_exporter": "python",
   "pygments_lexer": "ipython3",
   "version": "3.13.5"
  }
 },
 "nbformat": 4,
 "nbformat_minor": 5
}
