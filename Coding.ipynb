{
 "cells": [
  {
   "cell_type": "code",
   "execution_count": 1,
   "id": "abfac5f1",
   "metadata": {},
   "outputs": [
    {
     "name": "stdout",
     "output_type": "stream",
     "text": [
      "Hello! World\n"
     ]
    }
   ],
   "source": [
    "print(\"Hello! World\")"
   ]
  },
  {
   "cell_type": "code",
   "execution_count": 2,
   "id": "ff7be257",
   "metadata": {},
   "outputs": [
    {
     "name": "stdout",
     "output_type": "stream",
     "text": [
      "Coding is simple\n",
      "I am learning Python\n"
     ]
    }
   ],
   "source": [
    "print(\"Coding is simple\")\n",
    "print(\"I am learning Python\")   "
   ]
  },
  {
   "cell_type": "code",
   "execution_count": 1,
   "id": "cb655486",
   "metadata": {},
   "outputs": [
    {
     "name": "stdout",
     "output_type": "stream",
     "text": [
      "Coding is simple\n",
      "I am learning Python\n"
     ]
    }
   ],
   "source": [
    "print(\"Coding is simple\")\n",
    "print(\"I am learning Python\")   "
   ]
  },
  {
   "cell_type": "code",
   "execution_count": 2,
   "id": "4c9fdd6f",
   "metadata": {},
   "outputs": [
    {
     "name": "stdout",
     "output_type": "stream",
     "text": [
      "0\n",
      "1\n",
      "2\n",
      "3\n",
      "4\n",
      "5\n",
      "6\n",
      "7\n"
     ]
    }
   ],
   "source": [
    "import sys\n",
    "import time\n",
    "\n",
    "for i in range(8):\n",
    "    print(i)\n",
    "    time.sleep(0.5)"
   ]
  },
  {
   "cell_type": "code",
   "execution_count": 1,
   "id": "2fcf47b3",
   "metadata": {},
   "outputs": [
    {
     "name": "stdout",
     "output_type": "stream",
     "text": [
      "Original string: Hello, World!\n",
      "Reversed string: !dlroW ,olleH\n"
     ]
    }
   ],
   "source": [
    "def reverse_string(s):\n",
    "    return s[::-1]\n",
    "\n",
    "# Example usage\n",
    "input_string = \"Hello, World!\"\n",
    "reversed_string = reverse_string(input_string)\n",
    "print(\"Original string:\", input_string)\n",
    "print(\"Reversed string:\", reversed_string)"
   ]
  },
  {
   "cell_type": "code",
   "execution_count": 2,
   "id": "7e7a16d4",
   "metadata": {},
   "outputs": [],
   "source": [
    "class FileManager:\n",
    "    def __init__(self, filename, mode):\n",
    "        self.filename = filename\n",
    "        self.mode = mode\n",
    "    \n",
    "    def __enter__(self):\n",
    "        self.file = open(self.filename, self.mode)\n",
    "        return self.file\n",
    "    \n",
    "    def __exit__(self, exc_type, exc_value, traceback):\n",
    "        self.file.close()\n",
    "\n",
    "with FileManager('test.txt', 'w') as f:\n",
    "    f.write('Hello, world!')"
   ]
  },
  {
   "cell_type": "code",
   "execution_count": 1,
   "id": "00a8ee1c",
   "metadata": {},
   "outputs": [
    {
     "name": "stdout",
     "output_type": "stream",
     "text": [
      "Value: 10\n"
     ]
    }
   ],
   "source": [
    "class MyClass:\n",
    "    def __init__(self, value):\n",
    "        self.value = value  # Initialize object attribute\n",
    "\n",
    "    def display(self):\n",
    "        print(f\"Value: {self.value}\")\n",
    "\n",
    "obj = MyClass(10)\n",
    "obj.display()"
   ]
  },
  {
   "cell_type": "code",
   "execution_count": 1,
   "id": "755565ff",
   "metadata": {},
   "outputs": [
    {
     "name": "stdout",
     "output_type": "stream",
     "text": [
      "Number of vowels in the string: 3\n"
     ]
    }
   ],
   "source": [
    "def count_vowels(s):\n",
    "    # Define vowels\n",
    "    vowels = \"aeiouAEIOU\"\n",
    "    # Initialize count\n",
    "    count = 0\n",
    "    # Count vowels\n",
    "    for char in s:\n",
    "        if char in vowels:\n",
    "            count += 1\n",
    "    return count\n",
    "\n",
    "# Example usage\n",
    "input_string = \"Hello, World!\"\n",
    "vowel_count = count_vowels(input_string)\n",
    "print(\"Number of vowels in the string:\", vowel_count)\n"
   ]
  },
  {
   "cell_type": "code",
   "execution_count": 2,
   "id": "28b4744f",
   "metadata": {},
   "outputs": [
    {
     "data": {
      "text/plain": [
       "'DataCampBlackFridaySale'"
      ]
     },
     "execution_count": 2,
     "metadata": {},
     "output_type": "execute_result"
    }
   ],
   "source": [
    "def str_replace(text,ch):\n",
    "    result = ''\n",
    "    for i in text: \n",
    "            if i == ' ': \n",
    "                i = ch  \n",
    "            result += i \n",
    "    return result\n",
    "\n",
    "text = \"D t C mpBl ckFrid yS le\"\n",
    "ch = \"a\"\n",
    "\n",
    "str_replace(text,ch)\n",
    "# 'DataCampBlackFridaySale'"
   ]
  },
  {
   "cell_type": "code",
   "execution_count": 1,
   "id": "9423a850",
   "metadata": {},
   "outputs": [
    {
     "data": {
      "text/plain": [
       "True"
      ]
     },
     "execution_count": 1,
     "metadata": {},
     "output_type": "execute_result"
    }
   ],
   "source": [
    "def valid_square(num):\n",
    "    square = int(num**0.5)\n",
    "    check = square**2==num\n",
    "    return check\n",
    "\n",
    "valid_square(10)\n",
    "# False\n",
    "valid_square(36)\n",
    "# True"
   ]
  },
  {
   "cell_type": "code",
   "execution_count": 1,
   "id": "bc2203b0",
   "metadata": {},
   "outputs": [
    {
     "data": {
      "text/plain": [
       "3"
      ]
     },
     "execution_count": 1,
     "metadata": {},
     "output_type": "execute_result"
    }
   ],
   "source": [
    "def factorial_trailing_zeros(n):\n",
    "\n",
    "    fact = n\n",
    "    while n > 1:\n",
    "        fact *= n - 1\n",
    "        n -= 1\n",
    "\n",
    "    result = 0\n",
    "\n",
    "    for i in str(fact)[::-1]:\n",
    "        if i == \"0\":\n",
    "            result += 1\n",
    "        else:\n",
    "            break\n",
    "\n",
    "    return result\n",
    "\n",
    "\n",
    "factorial_trailing_zeros(10)\n",
    "# 2\n",
    "factorial_trailing_zeros(18)\n",
    "# 3"
   ]
  },
  {
   "cell_type": "code",
   "execution_count": 3,
   "id": "b16f5bdd",
   "metadata": {},
   "outputs": [
    {
     "data": {
      "text/plain": [
       "6"
      ]
     },
     "execution_count": 3,
     "metadata": {},
     "output_type": "execute_result"
    }
   ],
   "source": [
    "def max_index_diff(array):\n",
    "    n = len(array)\n",
    "    max_diff = -1\n",
    "    for i in range(0, n):\n",
    "        j = n - 1\n",
    "        while(j > i):\n",
    "            if array[j] > array[i] and max_diff < (j - i):\n",
    "                max_diff = j - i\n",
    "            j -= 1\n",
    "\n",
    "    return max_diff\n",
    "\n",
    "array_1 = [20,70,40,50,12,38,98]\n",
    "\n",
    "max_index_diff(array_1)\n",
    "# 6"
   ]
  },
  {
   "cell_type": "code",
   "execution_count": 1,
   "id": "746b53fc",
   "metadata": {},
   "outputs": [
    {
     "name": "stdout",
     "output_type": "stream",
     "text": [
      "\"racecar\" is a palindrome: True\n",
      "\"hello\" is a palindrome: False\n",
      "\"A man, a plan, a canal: Panama\" is a palindrome: True\n"
     ]
    }
   ],
   "source": [
    "def is_palindrome(text):\n",
    "    \"\"\"\n",
    "    Checks if a string is a palindrome.\n",
    "\n",
    "    Args:\n",
    "        text: The string to check.\n",
    "\n",
    "    Returns:\n",
    "        True if the string is a palindrome, False otherwise.\n",
    "    \"\"\"\n",
    "    processed_text = ''.join(char.lower() for char in text if char.isalnum())\n",
    "    return processed_text == processed_text[::-1]\n",
    "\n",
    "# Example usage\n",
    "string1 = \"racecar\"\n",
    "string2 = \"hello\"\n",
    "string3 = \"A man, a plan, a canal: Panama\"\n",
    "\n",
    "print(f'\"{string1}\" is a palindrome: {is_palindrome(string1)}')\n",
    "print(f'\"{string2}\" is a palindrome: {is_palindrome(string2)}')\n",
    "print(f'\"{string3}\" is a palindrome: {is_palindrome(string3)}')"
   ]
  },
  {
   "cell_type": "code",
   "execution_count": 1,
   "id": "67a0cb23",
   "metadata": {},
   "outputs": [
    {
     "ename": "ModuleNotFoundError",
     "evalue": "No module named 'pandas'",
     "output_type": "error",
     "traceback": [
      "\u001b[31m---------------------------------------------------------------------------\u001b[39m",
      "\u001b[31mModuleNotFoundError\u001b[39m                       Traceback (most recent call last)",
      "\u001b[36mCell\u001b[39m\u001b[36m \u001b[39m\u001b[32mIn[1]\u001b[39m\u001b[32m, line 1\u001b[39m\n\u001b[32m----> \u001b[39m\u001b[32m1\u001b[39m \u001b[38;5;28;01mimport\u001b[39;00m\u001b[38;5;250m \u001b[39m\u001b[34;01mpandas\u001b[39;00m\u001b[38;5;250m \u001b[39m\u001b[38;5;28;01mas\u001b[39;00m\u001b[38;5;250m \u001b[39m\u001b[34;01mpd\u001b[39;00m\n\u001b[32m      2\u001b[39m \u001b[38;5;28;01mimport\u001b[39;00m\u001b[38;5;250m \u001b[39m\u001b[34;01mnumpy\u001b[39;00m\u001b[38;5;250m \u001b[39m\u001b[38;5;28;01mas\u001b[39;00m\u001b[38;5;250m \u001b[39m\u001b[34;01mnp\u001b[39;00m\n\u001b[32m      3\u001b[39m df1 = pd.Series([\u001b[32m2\u001b[39m, \u001b[32m4\u001b[39m, \u001b[32m5\u001b[39m, \u001b[32m8\u001b[39m, \u001b[32m10\u001b[39m])\n",
      "\u001b[31mModuleNotFoundError\u001b[39m: No module named 'pandas'"
     ]
    }
   ],
   "source": [
    "import pandas as pd\n",
    "import numpy as np\n",
    "df1 = pd.Series([2, 4, 5, 8, 10])\n",
    "df2 = pd.Series([8, 10, 13, 15, 17])\n",
    "p_union = pd.Series(np.union1d(df1, df2))  # union of series\n",
    "p_intersect = pd.Series(np.intersect1d(df1, df2))  # intersection of series\n",
    "unique_elements = p_union[~p_union.isin(p_intersect)]\n",
    "print(unique_elements)\n",
    "\"\"\"\n",
    "Output:\n",
    "0     2\n",
    "1     4\n",
    "2     5\n",
    "5    13\n",
    "6    15\n",
    "7    17\n",
    "dtype: int64\n",
    "\"\"\""
   ]
  },
  {
   "cell_type": "code",
   "execution_count": 2,
   "id": "b4dbe59e",
   "metadata": {},
   "outputs": [
    {
     "name": "stdout",
     "output_type": "stream",
     "text": [
      "Original string: hello\n",
      "Reversed string (iterative): olleh\n",
      "Reversed string (recursive): olleh\n"
     ]
    }
   ],
   "source": [
    "def reverse_string_iterative(s):\n",
    "    \"\"\"Reverses a string using iteration.\"\"\"\n",
    "    return s[::-1]\n",
    "\n",
    "def reverse_string_recursive(s):\n",
    "    \"\"\"Reverses a string using recursion.\"\"\"\n",
    "    if len(s) == 0:\n",
    "        return s\n",
    "    else:\n",
    "        return reverse_string_recursive(s[1:]) + s[0]\n",
    "\n",
    "# Example usage\n",
    "my_string = \"hello\"\n",
    "print(f\"Original string: {my_string}\")\n",
    "print(f\"Reversed string (iterative): {reverse_string_iterative(my_string)}\")\n",
    "print(f\"Reversed string (recursive): {reverse_string_recursive(my_string)}\")\n"
   ]
  },
  {
   "cell_type": "code",
   "execution_count": 1,
   "id": "40021db4",
   "metadata": {},
   "outputs": [
    {
     "name": "stdout",
     "output_type": "stream",
     "text": [
      "True\n",
      "False\n"
     ]
    }
   ],
   "source": [
    "import math\n",
    "\n",
    "def is_prime(num):\n",
    "    if num <= 1: # 0, 1, and negative numbers are not prime\n",
    "        return False\n",
    "    # Check for divisibility from 2 up to the square root of the number\n",
    "    for i in range(2, int(math.sqrt(num)) + 1):\n",
    "        if num % i == 0:\n",
    "            return False # Not prime if divisible\n",
    "    return True # Prime if no divisors are found\n",
    "\n",
    "print(is_prime(17)) # Output: True\n",
    "print(is_prime(24)) # Output: False\n"
   ]
  },
  {
   "cell_type": "code",
   "execution_count": 1,
   "id": "df3f6448",
   "metadata": {},
   "outputs": [
    {
     "name": "stdout",
     "output_type": "stream",
     "text": [
      "[1, 2, 3, 4, 5, 6, 7]\n"
     ]
    }
   ],
   "source": [
    "    def flatten_list(nested_list):\n",
    "        flat_list = []\n",
    "        for item in nested_list:\n",
    "            if isinstance(item, list):\n",
    "                flat_list.extend(flatten_list(item))\n",
    "            else:\n",
    "                flat_list.append(item)\n",
    "        return flat_list\n",
    "\n",
    "    print(flatten_list([1, [2, 3], 4, [5, [6, 7]]])) # Output: [1, 2, 3, 4, 5, 6, 7]"
   ]
  },
  {
   "cell_type": "code",
   "execution_count": 1,
   "id": "3b5f3ede",
   "metadata": {},
   "outputs": [
    {
     "name": "stdout",
     "output_type": "stream",
     "text": [
      "3 2 1 "
     ]
    }
   ],
   "source": [
    "class Node:\n",
    "    def __init__(self, data):\n",
    "        self.data = data\n",
    "        self.next = None\n",
    "\n",
    "def reverse_linked_list_recursive(head):\n",
    "    if not head or not head.next:\n",
    "        return head\n",
    "    new_head = reverse_linked_list_recursive(head.next)\n",
    "    head.next.next = head\n",
    "    head.next = None\n",
    "    return new_head\n",
    "\n",
    "# Example Usage (create a sample linked list)\n",
    "head = Node(1)\n",
    "head.next = Node(2)\n",
    "head.next.next = Node(3)\n",
    "\n",
    "# Reverse the list\n",
    "new_head = reverse_linked_list_recursive(head)\n",
    "\n",
    "# Print the reversed list\n",
    "current = new_head\n",
    "while current:\n",
    "    print(current.data, end=\" \")\n",
    "    current = current.next\n",
    "# Expected Output: 3 2 1"
   ]
  },
  {
   "cell_type": "code",
   "execution_count": 2,
   "id": "5a9b10af",
   "metadata": {},
   "outputs": [
    {
     "name": "stdout",
     "output_type": "stream",
     "text": [
      "n\n"
     ]
    }
   ],
   "source": [
    "def first_non_repeating_char(s):\n",
    "    char_count = {}\n",
    "    for char in s:\n",
    "        char_count[char] = char_count.get(char, 0) + 1\n",
    "    for char in s:\n",
    "        if char_count[char] == 1:\n",
    "            return char\n",
    "    return None\n",
    "\n",
    "print(first_non_repeating_char(\"nxtwave\"))  # n"
   ]
  }
 ],
 "metadata": {
  "kernelspec": {
   "display_name": "Python 3",
   "language": "python",
   "name": "python3"
  },
  "language_info": {
   "codemirror_mode": {
    "name": "ipython",
    "version": 3
   },
   "file_extension": ".py",
   "mimetype": "text/x-python",
   "name": "python",
   "nbconvert_exporter": "python",
   "pygments_lexer": "ipython3",
   "version": "3.13.5"
  }
 },
 "nbformat": 4,
 "nbformat_minor": 5
}
