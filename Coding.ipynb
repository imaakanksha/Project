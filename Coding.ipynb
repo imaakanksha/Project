{
 "cells": [
  {
   "cell_type": "code",
   "execution_count": 1,
   "id": "abfac5f1",
   "metadata": {},
   "outputs": [
    {
     "name": "stdout",
     "output_type": "stream",
     "text": [
      "Hello! World\n"
     ]
    }
   ],
   "source": [
    "print(\"Hello! World\")"
   ]
  },
  {
   "cell_type": "code",
   "execution_count": 2,
   "id": "ff7be257",
   "metadata": {},
   "outputs": [
    {
     "name": "stdout",
     "output_type": "stream",
     "text": [
      "Coding is simple\n",
      "I am learning Python\n"
     ]
    }
   ],
   "source": [
    "print(\"Coding is simple\")\n",
    "print(\"I am learning Python\")   "
   ]
  },
  {
   "cell_type": "code",
   "execution_count": 1,
   "id": "cb655486",
   "metadata": {},
   "outputs": [
    {
     "name": "stdout",
     "output_type": "stream",
     "text": [
      "Coding is simple\n",
      "I am learning Python\n"
     ]
    }
   ],
   "source": [
    "print(\"Coding is simple\")\n",
    "print(\"I am learning Python\")   "
   ]
  },
  {
   "cell_type": "code",
   "execution_count": 2,
   "id": "4c9fdd6f",
   "metadata": {},
   "outputs": [
    {
     "name": "stdout",
     "output_type": "stream",
     "text": [
      "0\n",
      "1\n",
      "2\n",
      "3\n",
      "4\n",
      "5\n",
      "6\n",
      "7\n"
     ]
    }
   ],
   "source": [
    "import sys\n",
    "import time\n",
    "\n",
    "for i in range(8):\n",
    "    print(i)\n",
    "    time.sleep(0.5)"
   ]
  },
  {
   "cell_type": "code",
   "execution_count": 1,
   "id": "2fcf47b3",
   "metadata": {},
   "outputs": [
    {
     "name": "stdout",
     "output_type": "stream",
     "text": [
      "Original string: Hello, World!\n",
      "Reversed string: !dlroW ,olleH\n"
     ]
    }
   ],
   "source": [
    "def reverse_string(s):\n",
    "    return s[::-1]\n",
    "\n",
    "# Example usage\n",
    "input_string = \"Hello, World!\"\n",
    "reversed_string = reverse_string(input_string)\n",
    "print(\"Original string:\", input_string)\n",
    "print(\"Reversed string:\", reversed_string)"
   ]
  },
  {
   "cell_type": "code",
   "execution_count": 2,
   "id": "7e7a16d4",
   "metadata": {},
   "outputs": [],
   "source": [
    "class FileManager:\n",
    "    def __init__(self, filename, mode):\n",
    "        self.filename = filename\n",
    "        self.mode = mode\n",
    "    \n",
    "    def __enter__(self):\n",
    "        self.file = open(self.filename, self.mode)\n",
    "        return self.file\n",
    "    \n",
    "    def __exit__(self, exc_type, exc_value, traceback):\n",
    "        self.file.close()\n",
    "\n",
    "with FileManager('test.txt', 'w') as f:\n",
    "    f.write('Hello, world!')"
   ]
  },
  {
   "cell_type": "code",
   "execution_count": 1,
   "id": "00a8ee1c",
   "metadata": {},
   "outputs": [
    {
     "name": "stdout",
     "output_type": "stream",
     "text": [
      "Value: 10\n"
     ]
    }
   ],
   "source": [
    "class MyClass:\n",
    "    def __init__(self, value):\n",
    "        self.value = value  # Initialize object attribute\n",
    "\n",
    "    def display(self):\n",
    "        print(f\"Value: {self.value}\")\n",
    "\n",
    "obj = MyClass(10)\n",
    "obj.display()"
   ]
  },
  {
   "cell_type": "code",
   "execution_count": 1,
   "id": "755565ff",
   "metadata": {},
   "outputs": [
    {
     "name": "stdout",
     "output_type": "stream",
     "text": [
      "Number of vowels in the string: 3\n"
     ]
    }
   ],
   "source": [
    "def count_vowels(s):\n",
    "    # Define vowels\n",
    "    vowels = \"aeiouAEIOU\"\n",
    "    # Initialize count\n",
    "    count = 0\n",
    "    # Count vowels\n",
    "    for char in s:\n",
    "        if char in vowels:\n",
    "            count += 1\n",
    "    return count\n",
    "\n",
    "# Example usage\n",
    "input_string = \"Hello, World!\"\n",
    "vowel_count = count_vowels(input_string)\n",
    "print(\"Number of vowels in the string:\", vowel_count)\n"
   ]
  },
  {
   "cell_type": "code",
   "execution_count": 2,
   "id": "28b4744f",
   "metadata": {},
   "outputs": [
    {
     "data": {
      "text/plain": [
       "'DataCampBlackFridaySale'"
      ]
     },
     "execution_count": 2,
     "metadata": {},
     "output_type": "execute_result"
    }
   ],
   "source": [
    "def str_replace(text,ch):\n",
    "    result = ''\n",
    "    for i in text: \n",
    "            if i == ' ': \n",
    "                i = ch  \n",
    "            result += i \n",
    "    return result\n",
    "\n",
    "text = \"D t C mpBl ckFrid yS le\"\n",
    "ch = \"a\"\n",
    "\n",
    "str_replace(text,ch)\n",
    "# 'DataCampBlackFridaySale'"
   ]
  },
  {
   "cell_type": "code",
   "execution_count": 1,
   "id": "9423a850",
   "metadata": {},
   "outputs": [
    {
     "data": {
      "text/plain": [
       "True"
      ]
     },
     "execution_count": 1,
     "metadata": {},
     "output_type": "execute_result"
    }
   ],
   "source": [
    "def valid_square(num):\n",
    "    square = int(num**0.5)\n",
    "    check = square**2==num\n",
    "    return check\n",
    "\n",
    "valid_square(10)\n",
    "# False\n",
    "valid_square(36)\n",
    "# True"
   ]
  }
 ],
 "metadata": {
  "kernelspec": {
   "display_name": "Python 3",
   "language": "python",
   "name": "python3"
  },
  "language_info": {
   "codemirror_mode": {
    "name": "ipython",
    "version": 3
   },
   "file_extension": ".py",
   "mimetype": "text/x-python",
   "name": "python",
   "nbconvert_exporter": "python",
   "pygments_lexer": "ipython3",
   "version": "3.13.5"
  }
 },
 "nbformat": 4,
 "nbformat_minor": 5
}
