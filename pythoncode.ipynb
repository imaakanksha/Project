{
 "cells": [
  {
   "cell_type": "code",
   "execution_count": 1,
   "id": "e46dc050",
   "metadata": {},
   "outputs": [
    {
     "name": "stdout",
     "output_type": "stream",
     "text": [
      "16 is a power of two.\n"
     ]
    }
   ],
   "source": [
    "def is_power_of_two(number):\n",
    "    if number <= 0:\n",
    "        return False  # Numbers less than or equal to 0 are not powers of two\n",
    "    while number > 1:\n",
    "        if number % 2 != 0:\n",
    "            return False  # If the number is not divisible by 2, it's not a power of two\n",
    "        number //= 2\n",
    "    return True\n",
    "\n",
    "# Example usage\n",
    "number = 16\n",
    "if is_power_of_two(number):\n",
    "    print(number, \"is a power of two.\")\n",
    "else:\n",
    "    print(number, \"is not a power of two.\")"
   ]
  },
  {
   "cell_type": "code",
   "execution_count": 1,
   "id": "e04d3c12",
   "metadata": {},
   "outputs": [
    {
     "name": "stdout",
     "output_type": "stream",
     "text": [
      "{\"name\": \"Alice\", \"age\": 30}\n"
     ]
    }
   ],
   "source": [
    "import json\n",
    "\n",
    "class Person:\n",
    "    def __init__(self, name, age):\n",
    "        self.name = name\n",
    "        self.age = age\n",
    "\n",
    "    def __json__(self):\n",
    "        return {'name': self.name, 'age': self.age}\n",
    "\n",
    "p1 = Person(\"Alice\", 30)\n",
    "res = json.dumps(p1, default=lambda o: o.__json__() if hasattr(o, '__json__') else None)\n",
    "print(res)"
   ]
  },
  {
   "cell_type": "code",
   "execution_count": 1,
   "id": "49422589",
   "metadata": {},
   "outputs": [
    {
     "name": "stdout",
     "output_type": "stream",
     "text": [
      "Original string: Hello, World!\n",
      "Reversed string: !dlroW ,olleH\n"
     ]
    }
   ],
   "source": [
    "def reverse_string(s):\n",
    "    reversed_str = \"\"\n",
    "    for char in s:\n",
    "        reversed_str = char + reversed_str\n",
    "    return reversed_str\n",
    "\n",
    "# Example usage\n",
    "input_string = \"Hello, World!\"\n",
    "reversed_string = reverse_string(input_string)\n",
    "print(\"Original string:\", input_string)\n",
    "print(\"Reversed string:\", reversed_string)"
   ]
  }
 ],
 "metadata": {
  "kernelspec": {
   "display_name": "Python 3",
   "language": "python",
   "name": "python3"
  },
  "language_info": {
   "codemirror_mode": {
    "name": "ipython",
    "version": 3
   },
   "file_extension": ".py",
   "mimetype": "text/x-python",
   "name": "python",
   "nbconvert_exporter": "python",
   "pygments_lexer": "ipython3",
   "version": "3.13.7"
  }
 },
 "nbformat": 4,
 "nbformat_minor": 5
}
